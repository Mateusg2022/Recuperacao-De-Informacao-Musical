{
  "cells": [
    {
      "cell_type": "markdown",
      "metadata": {
        "id": "view-in-github",
        "colab_type": "text"
      },
      "source": [
        "<a href=\"https://colab.research.google.com/github/Mateusg2022/Recuperacao-De-Informacao-Musical/blob/main/notebooks/lab01.ipynb\" target=\"_parent\"><img src=\"https://colab.research.google.com/assets/colab-badge.svg\" alt=\"Open In Colab\"/></a>"
      ]
    },
    {
      "cell_type": "code",
      "execution_count": 1,
      "metadata": {
        "id": "NLmn_hj3_U3_",
        "colab": {
          "base_uri": "https://localhost:8080/"
        },
        "outputId": "15ba5ea4-ed33-4e35-ccfb-b033f75aaa30"
      },
      "outputs": [
        {
          "output_type": "stream",
          "name": "stdout",
          "text": [
            "Collecting git+https://github.com/flaviovdf/musica.git\n",
            "  Cloning https://github.com/flaviovdf/musica.git to /tmp/pip-req-build-mnoivxdr\n",
            "  Running command git clone --filter=blob:none --quiet https://github.com/flaviovdf/musica.git /tmp/pip-req-build-mnoivxdr\n",
            "  Resolved https://github.com/flaviovdf/musica.git to commit 32d10fd5de31f283bf5d9484a43cba67b605b16c\n",
            "  Preparing metadata (setup.py) ... \u001b[?25l\u001b[?25hdone\n",
            "Requirement already satisfied: flax in /usr/local/lib/python3.12/dist-packages (from musica_dcc_ufmg==0.1) (0.10.6)\n",
            "Requirement already satisfied: jax in /usr/local/lib/python3.12/dist-packages (from musica_dcc_ufmg==0.1) (0.5.3)\n",
            "Requirement already satisfied: librosa in /usr/local/lib/python3.12/dist-packages (from musica_dcc_ufmg==0.1) (0.11.0)\n",
            "Requirement already satisfied: matplotlib in /usr/local/lib/python3.12/dist-packages (from musica_dcc_ufmg==0.1) (3.10.0)\n",
            "Requirement already satisfied: music21 in /usr/local/lib/python3.12/dist-packages (from musica_dcc_ufmg==0.1) (9.3.0)\n",
            "Requirement already satisfied: pandas in /usr/local/lib/python3.12/dist-packages (from musica_dcc_ufmg==0.1) (2.2.2)\n",
            "Requirement already satisfied: numpy in /usr/local/lib/python3.12/dist-packages (from musica_dcc_ufmg==0.1) (2.0.2)\n",
            "Requirement already satisfied: scipy in /usr/local/lib/python3.12/dist-packages (from musica_dcc_ufmg==0.1) (1.16.1)\n",
            "Requirement already satisfied: msgpack in /usr/local/lib/python3.12/dist-packages (from flax->musica_dcc_ufmg==0.1) (1.1.1)\n",
            "Requirement already satisfied: optax in /usr/local/lib/python3.12/dist-packages (from flax->musica_dcc_ufmg==0.1) (0.2.5)\n",
            "Requirement already satisfied: orbax-checkpoint in /usr/local/lib/python3.12/dist-packages (from flax->musica_dcc_ufmg==0.1) (0.11.24)\n",
            "Requirement already satisfied: tensorstore in /usr/local/lib/python3.12/dist-packages (from flax->musica_dcc_ufmg==0.1) (0.1.76)\n",
            "Requirement already satisfied: rich>=11.1 in /usr/local/lib/python3.12/dist-packages (from flax->musica_dcc_ufmg==0.1) (13.9.4)\n",
            "Requirement already satisfied: typing_extensions>=4.2 in /usr/local/lib/python3.12/dist-packages (from flax->musica_dcc_ufmg==0.1) (4.15.0)\n",
            "Requirement already satisfied: PyYAML>=5.4.1 in /usr/local/lib/python3.12/dist-packages (from flax->musica_dcc_ufmg==0.1) (6.0.2)\n",
            "Requirement already satisfied: treescope>=0.1.7 in /usr/local/lib/python3.12/dist-packages (from flax->musica_dcc_ufmg==0.1) (0.1.10)\n",
            "Requirement already satisfied: jaxlib<=0.5.3,>=0.5.3 in /usr/local/lib/python3.12/dist-packages (from jax->musica_dcc_ufmg==0.1) (0.5.3)\n",
            "Requirement already satisfied: ml_dtypes>=0.4.0 in /usr/local/lib/python3.12/dist-packages (from jax->musica_dcc_ufmg==0.1) (0.5.3)\n",
            "Requirement already satisfied: opt_einsum in /usr/local/lib/python3.12/dist-packages (from jax->musica_dcc_ufmg==0.1) (3.4.0)\n",
            "Requirement already satisfied: audioread>=2.1.9 in /usr/local/lib/python3.12/dist-packages (from librosa->musica_dcc_ufmg==0.1) (3.0.1)\n",
            "Requirement already satisfied: numba>=0.51.0 in /usr/local/lib/python3.12/dist-packages (from librosa->musica_dcc_ufmg==0.1) (0.60.0)\n",
            "Requirement already satisfied: scikit-learn>=1.1.0 in /usr/local/lib/python3.12/dist-packages (from librosa->musica_dcc_ufmg==0.1) (1.6.1)\n",
            "Requirement already satisfied: joblib>=1.0 in /usr/local/lib/python3.12/dist-packages (from librosa->musica_dcc_ufmg==0.1) (1.5.2)\n",
            "Requirement already satisfied: decorator>=4.3.0 in /usr/local/lib/python3.12/dist-packages (from librosa->musica_dcc_ufmg==0.1) (4.4.2)\n",
            "Requirement already satisfied: soundfile>=0.12.1 in /usr/local/lib/python3.12/dist-packages (from librosa->musica_dcc_ufmg==0.1) (0.13.1)\n",
            "Requirement already satisfied: pooch>=1.1 in /usr/local/lib/python3.12/dist-packages (from librosa->musica_dcc_ufmg==0.1) (1.8.2)\n",
            "Requirement already satisfied: soxr>=0.3.2 in /usr/local/lib/python3.12/dist-packages (from librosa->musica_dcc_ufmg==0.1) (0.5.0.post1)\n",
            "Requirement already satisfied: lazy_loader>=0.1 in /usr/local/lib/python3.12/dist-packages (from librosa->musica_dcc_ufmg==0.1) (0.4)\n",
            "Requirement already satisfied: contourpy>=1.0.1 in /usr/local/lib/python3.12/dist-packages (from matplotlib->musica_dcc_ufmg==0.1) (1.3.3)\n",
            "Requirement already satisfied: cycler>=0.10 in /usr/local/lib/python3.12/dist-packages (from matplotlib->musica_dcc_ufmg==0.1) (0.12.1)\n",
            "Requirement already satisfied: fonttools>=4.22.0 in /usr/local/lib/python3.12/dist-packages (from matplotlib->musica_dcc_ufmg==0.1) (4.59.2)\n",
            "Requirement already satisfied: kiwisolver>=1.3.1 in /usr/local/lib/python3.12/dist-packages (from matplotlib->musica_dcc_ufmg==0.1) (1.4.9)\n",
            "Requirement already satisfied: packaging>=20.0 in /usr/local/lib/python3.12/dist-packages (from matplotlib->musica_dcc_ufmg==0.1) (25.0)\n",
            "Requirement already satisfied: pillow>=8 in /usr/local/lib/python3.12/dist-packages (from matplotlib->musica_dcc_ufmg==0.1) (11.3.0)\n",
            "Requirement already satisfied: pyparsing>=2.3.1 in /usr/local/lib/python3.12/dist-packages (from matplotlib->musica_dcc_ufmg==0.1) (3.2.3)\n",
            "Requirement already satisfied: python-dateutil>=2.7 in /usr/local/lib/python3.12/dist-packages (from matplotlib->musica_dcc_ufmg==0.1) (2.9.0.post0)\n",
            "Requirement already satisfied: chardet in /usr/local/lib/python3.12/dist-packages (from music21->musica_dcc_ufmg==0.1) (5.2.0)\n",
            "Requirement already satisfied: jsonpickle in /usr/local/lib/python3.12/dist-packages (from music21->musica_dcc_ufmg==0.1) (4.1.1)\n",
            "Requirement already satisfied: more-itertools in /usr/local/lib/python3.12/dist-packages (from music21->musica_dcc_ufmg==0.1) (10.8.0)\n",
            "Requirement already satisfied: requests in /usr/local/lib/python3.12/dist-packages (from music21->musica_dcc_ufmg==0.1) (2.32.4)\n",
            "Requirement already satisfied: webcolors>=1.5 in /usr/local/lib/python3.12/dist-packages (from music21->musica_dcc_ufmg==0.1) (24.11.1)\n",
            "Requirement already satisfied: pytz>=2020.1 in /usr/local/lib/python3.12/dist-packages (from pandas->musica_dcc_ufmg==0.1) (2025.2)\n",
            "Requirement already satisfied: tzdata>=2022.7 in /usr/local/lib/python3.12/dist-packages (from pandas->musica_dcc_ufmg==0.1) (2025.2)\n",
            "Requirement already satisfied: llvmlite<0.44,>=0.43.0dev0 in /usr/local/lib/python3.12/dist-packages (from numba>=0.51.0->librosa->musica_dcc_ufmg==0.1) (0.43.0)\n",
            "Requirement already satisfied: platformdirs>=2.5.0 in /usr/local/lib/python3.12/dist-packages (from pooch>=1.1->librosa->musica_dcc_ufmg==0.1) (4.4.0)\n",
            "Requirement already satisfied: six>=1.5 in /usr/local/lib/python3.12/dist-packages (from python-dateutil>=2.7->matplotlib->musica_dcc_ufmg==0.1) (1.17.0)\n",
            "Requirement already satisfied: charset_normalizer<4,>=2 in /usr/local/lib/python3.12/dist-packages (from requests->music21->musica_dcc_ufmg==0.1) (3.4.3)\n",
            "Requirement already satisfied: idna<4,>=2.5 in /usr/local/lib/python3.12/dist-packages (from requests->music21->musica_dcc_ufmg==0.1) (3.10)\n",
            "Requirement already satisfied: urllib3<3,>=1.21.1 in /usr/local/lib/python3.12/dist-packages (from requests->music21->musica_dcc_ufmg==0.1) (2.5.0)\n",
            "Requirement already satisfied: certifi>=2017.4.17 in /usr/local/lib/python3.12/dist-packages (from requests->music21->musica_dcc_ufmg==0.1) (2025.8.3)\n",
            "Requirement already satisfied: markdown-it-py>=2.2.0 in /usr/local/lib/python3.12/dist-packages (from rich>=11.1->flax->musica_dcc_ufmg==0.1) (4.0.0)\n",
            "Requirement already satisfied: pygments<3.0.0,>=2.13.0 in /usr/local/lib/python3.12/dist-packages (from rich>=11.1->flax->musica_dcc_ufmg==0.1) (2.19.2)\n",
            "Requirement already satisfied: threadpoolctl>=3.1.0 in /usr/local/lib/python3.12/dist-packages (from scikit-learn>=1.1.0->librosa->musica_dcc_ufmg==0.1) (3.6.0)\n",
            "Requirement already satisfied: cffi>=1.0 in /usr/local/lib/python3.12/dist-packages (from soundfile>=0.12.1->librosa->musica_dcc_ufmg==0.1) (1.17.1)\n",
            "Requirement already satisfied: absl-py>=0.7.1 in /usr/local/lib/python3.12/dist-packages (from optax->flax->musica_dcc_ufmg==0.1) (1.4.0)\n",
            "Requirement already satisfied: chex>=0.1.87 in /usr/local/lib/python3.12/dist-packages (from optax->flax->musica_dcc_ufmg==0.1) (0.1.90)\n",
            "Requirement already satisfied: etils[epath,epy] in /usr/local/lib/python3.12/dist-packages (from orbax-checkpoint->flax->musica_dcc_ufmg==0.1) (1.13.0)\n",
            "Requirement already satisfied: nest_asyncio in /usr/local/lib/python3.12/dist-packages (from orbax-checkpoint->flax->musica_dcc_ufmg==0.1) (1.6.0)\n",
            "Requirement already satisfied: aiofiles in /usr/local/lib/python3.12/dist-packages (from orbax-checkpoint->flax->musica_dcc_ufmg==0.1) (24.1.0)\n",
            "Requirement already satisfied: protobuf in /usr/local/lib/python3.12/dist-packages (from orbax-checkpoint->flax->musica_dcc_ufmg==0.1) (5.29.5)\n",
            "Requirement already satisfied: humanize in /usr/local/lib/python3.12/dist-packages (from orbax-checkpoint->flax->musica_dcc_ufmg==0.1) (4.13.0)\n",
            "Requirement already satisfied: simplejson>=3.16.0 in /usr/local/lib/python3.12/dist-packages (from orbax-checkpoint->flax->musica_dcc_ufmg==0.1) (3.20.1)\n",
            "Requirement already satisfied: pycparser in /usr/local/lib/python3.12/dist-packages (from cffi>=1.0->soundfile>=0.12.1->librosa->musica_dcc_ufmg==0.1) (2.22)\n",
            "Requirement already satisfied: setuptools in /usr/local/lib/python3.12/dist-packages (from chex>=0.1.87->optax->flax->musica_dcc_ufmg==0.1) (75.2.0)\n",
            "Requirement already satisfied: toolz>=0.9.0 in /usr/local/lib/python3.12/dist-packages (from chex>=0.1.87->optax->flax->musica_dcc_ufmg==0.1) (0.12.1)\n",
            "Requirement already satisfied: mdurl~=0.1 in /usr/local/lib/python3.12/dist-packages (from markdown-it-py>=2.2.0->rich>=11.1->flax->musica_dcc_ufmg==0.1) (0.1.2)\n",
            "Requirement already satisfied: fsspec in /usr/local/lib/python3.12/dist-packages (from etils[epath,epy]->orbax-checkpoint->flax->musica_dcc_ufmg==0.1) (2025.3.0)\n",
            "Requirement already satisfied: importlib_resources in /usr/local/lib/python3.12/dist-packages (from etils[epath,epy]->orbax-checkpoint->flax->musica_dcc_ufmg==0.1) (6.5.2)\n",
            "Requirement already satisfied: zipp in /usr/local/lib/python3.12/dist-packages (from etils[epath,epy]->orbax-checkpoint->flax->musica_dcc_ufmg==0.1) (3.23.0)\n",
            "Building wheels for collected packages: musica_dcc_ufmg\n",
            "  Building wheel for musica_dcc_ufmg (setup.py) ... \u001b[?25l\u001b[?25hdone\n",
            "  Created wheel for musica_dcc_ufmg: filename=musica_dcc_ufmg-0.1-py3-none-any.whl size=3381 sha256=a3552e1a046403c1feecbb15a52de6f31c7c83148cc663824deb1991a17a2a3e\n",
            "  Stored in directory: /tmp/pip-ephem-wheel-cache-sostufbp/wheels/c8/96/f3/012602f1f60b8bbe7aa23c3ea2251c3218e3b3ebc6a95ccaa2\n",
            "Successfully built musica_dcc_ufmg\n",
            "Installing collected packages: musica_dcc_ufmg\n",
            "Successfully installed musica_dcc_ufmg-0.1\n"
          ]
        }
      ],
      "source": [
        "# Descomente e rode para usar no colab\n",
        "! pip install git+https://github.com/flaviovdf/musica.git"
      ]
    },
    {
      "cell_type": "markdown",
      "metadata": {
        "id": "Xq4zq2Swzaeb"
      },
      "source": [
        "# Representações\n",
        "\n",
        "**Objetivos**\n",
        "1. Entender as diferentes representações de música\n",
        "1. Treinar um pouco de música com music21\n",
        "\n",
        "**Resultado Esperado**\n",
        "1. Uma base nem conceitos simples de música e representações para o resto do curso\n",
        "\n",
        "## Pacotes Necessários\n",
        "\n",
        "Para conseguir entender um pouco de música e midi, será necessária a instalação do pacote [Music21](https://web.mit.edu/music21/). Instale o pacote no seu ambiente anaconda configurado no primeiro lab. O mesmo serve para tocar e manipular arquivos midi e MusicXML. Para instalar o pacote execute o comando abaixo em um terminal.\n",
        "\n",
        "```bash\n",
        "pip install music21\n",
        "```\n",
        "\n",
        "Além do Music21, instale os programas:\n",
        "\n",
        "1. [Lilypond](http://lilypond.org/)\n",
        "1. [MuseScore](https://musescore.com/)\n",
        "\n",
        "\n",
        "### Configurando o Music21\n",
        "\n",
        "Os dois são necessários para que o music21 funcione. Depois de instalar os programas execute os comandos abaixo em um Notebook ou prompt Python.\n",
        "\n",
        "```python\n",
        "from music21 import *\n",
        "configure.run()\n",
        "```\n",
        "\n",
        "*Caso o Music21 não funcione*\n",
        "\n",
        "O comando acima deve configurar automaticamente o Music21. Caso não funcione, altere o arquivo `~/.music21rc`. Isto deve ser algo como `/home/usuario/.music21rc` no Linux ou WSL, `/Users/usuario/.music21rc`, ou `music21-settings.xml` no diretório Dados de Aplicatio (Application Data) no Windows.\n",
        "\n",
        "Garanta que os caminhos apontam para os executáveis dos aplicatiovos. No Windows serão os .exe de cada um. Abaixo coloco as entradas corretas para um ambiente Windows.\n",
        "\n",
        "```\n",
        "<settings encoding=\"utf-8\">\n",
        "  ...\n",
        "  <preference name=\"lilypondPath\" value=\"/usr/bin/lilypond\" />\n",
        "  <preference name=\"musescoreDirectPNGPath\" value=\"/usr/bin/musescore\" />\n",
        "  <preference name=\"musicxmlPath\" value=\"/usr/bin/musescore\" />\n",
        "  ...\n",
        "</settings>\n",
        "```\n",
        "\n",
        "## Imports Básicos"
      ]
    },
    {
      "cell_type": "code",
      "execution_count": 2,
      "metadata": {
        "id": "MShe5G-Qzaer"
      },
      "outputs": [],
      "source": [
        "from musica import mu_plots\n",
        "\n",
        "from music21 import *\n",
        "\n",
        "import librosa\n",
        "import librosa.display\n",
        "\n",
        "import IPython.display as ipd\n",
        "\n",
        "import matplotlib.pyplot as plt\n",
        "import numpy as np\n",
        "import pandas as pd"
      ]
    },
    {
      "cell_type": "code",
      "execution_count": 3,
      "metadata": {
        "id": "rGrwvS7KCQsA",
        "colab": {
          "base_uri": "https://localhost:8080/"
        },
        "outputId": "dee979c1-b818-4934-bcfd-2f9da71c7e20"
      },
      "outputs": [
        {
          "output_type": "execute_result",
          "data": {
            "text/plain": [
              "<contextlib.ExitStack at 0x7900821d11f0>"
            ]
          },
          "metadata": {},
          "execution_count": 3
        }
      ],
      "source": [
        "mu_plots.init_matplotlib()\n",
        "plt.ion()"
      ]
    },
    {
      "cell_type": "markdown",
      "metadata": {
        "id": "VchBN_4Jzaev"
      },
      "source": [
        "## Parte 1: Notas Musicais\n",
        "\n",
        "Na aula nós vimos que toda nota musical representa uma frequência. Com o music21, podemos tocar uma nota da forma abaixo."
      ]
    },
    {
      "cell_type": "code",
      "execution_count": 4,
      "metadata": {
        "id": "fnrXirQizaex",
        "colab": {
          "base_uri": "https://localhost:8080/",
          "height": 133
        },
        "outputId": "d6e780e8-0b7c-40e4-f6a4-b9cd611fae72"
      },
      "outputs": [
        {
          "output_type": "display_data",
          "data": {
            "text/plain": [
              "<IPython.core.display.HTML object>"
            ],
            "text/html": [
              "\n",
              "        <div id=\"midiPlayerDiv13\"></div>\n",
              "        <link rel=\"stylesheet\" href=\"https://cuthbertLab.github.io/music21j/css/m21.css\">\n",
              "        \n",
              "        <script\n",
              "        src=\"https://cdnjs.cloudflare.com/ajax/libs/require.js/2.3.6/require.min.js\"\n",
              "        ></script>\n",
              "    \n",
              "        <script>\n",
              "        function midiPlayerDiv13_play() {\n",
              "            const rq = require.config({\n",
              "                paths: {\n",
              "                    'music21': 'https://cuthbertLab.github.io/music21j/releases/music21.debug',\n",
              "                }\n",
              "            });\n",
              "            rq(['music21'], function(music21) {\n",
              "                mp = new music21.miditools.MidiPlayer();\n",
              "                mp.addPlayer(\"#midiPlayerDiv13\");\n",
              "                mp.base64Load(\"data:audio/midi;base64,TVRoZAAAAAYAAQACJ2BNVHJrAAAAFAD/UQMHoSAA/1gEBAIYCM5g/y8ATVRyawAAABcA/wMAAOAAQM5gkENazmCAQwDOYP8vAA==\");\n",
              "            });\n",
              "        }\n",
              "        if (typeof require === 'undefined') {\n",
              "            setTimeout(midiPlayerDiv13_play, 2000);\n",
              "        } else {\n",
              "            midiPlayerDiv13_play();\n",
              "        }\n",
              "        </script>"
            ]
          },
          "metadata": {}
        }
      ],
      "source": [
        "n = note.Note('G4')\n",
        "n.show('midi')"
      ]
    },
    {
      "cell_type": "markdown",
      "metadata": {
        "id": "y0JQFdGTzaey"
      },
      "source": [
        "Podemos pegar a frequência com o código abaixo."
      ]
    },
    {
      "cell_type": "code",
      "execution_count": 5,
      "metadata": {
        "id": "O86vSWLpzae0",
        "colab": {
          "base_uri": "https://localhost:8080/"
        },
        "outputId": "4b3e7d28-ffc7-4c9a-ee26-b73bc1f85017"
      },
      "outputs": [
        {
          "output_type": "stream",
          "name": "stdout",
          "text": [
            "391.99543598174927\n"
          ]
        }
      ],
      "source": [
        "print(n.pitch.frequency)"
      ]
    },
    {
      "cell_type": "markdown",
      "metadata": {
        "id": "669wFLS5zae3"
      },
      "source": [
        "**Questão 01:** Crie uma função Python (abaixo) que aumenta *uma oitava* na nota musical, isto é, recebe um nome de uma nota e retorna **uma nova nova** uma oitava acima. Leia a documentação do music21 ou faça um código em python na mão mesmo."
      ]
    },
    {
      "cell_type": "code",
      "execution_count": 6,
      "metadata": {
        "id": "rO1TB2eUzae6"
      },
      "outputs": [],
      "source": [
        "def aumenta_oitava(n: note.Note):\n",
        "    n.octave += 1\n",
        "    return n"
      ]
    },
    {
      "cell_type": "markdown",
      "metadata": {
        "id": "qqf5alH0zae9"
      },
      "source": [
        "**Questão 02:** Escreva no markdown abaixo como aumentar uma oitava muda a frequência."
      ]
    },
    {
      "cell_type": "markdown",
      "metadata": {
        "id": "11FJQhkjzafA"
      },
      "source": [
        "> Subir uma nota em uma oitava significa duplicar a sua frequência."
      ]
    },
    {
      "cell_type": "markdown",
      "metadata": {
        "id": "0xhiG5PNzafD"
      },
      "source": [
        "## Parte 2: Midi e Partituras\n",
        "\n",
        "**Questão 03** Indique quais notas são tocadas na melodia abaixo. Por exemplo, caso seja do-re-mi, a resposta é 'c4 d4 e4'. Lembre-se que isso é uma clave de sol. A clave indica o local do semiton Sol. Este fica **na linha tocada pelo extremo mais direito do & (e comercial).** O sol indicado pela clave é o 'g4'.\n",
        "\n",
        "![](https://dcc.ufmg.br/~flaviovdf/mir/lab01/q02.png)"
      ]
    },
    {
      "cell_type": "markdown",
      "metadata": {
        "id": "ZGKIfTzLzafE"
      },
      "source": [
        "> G4 - F4 - G4 - C4 - B4 - C4"
      ]
    },
    {
      "cell_type": "markdown",
      "metadata": {
        "id": "z5pV2nl1zafH"
      },
      "source": [
        "**Questão 04** Crie um código que gera as primeiras n posições de fibonacci. A sequência começa de com `[0, 1]`. Estas são as duas primeiras posições. Com as n-posições, gere uma melodia em music21 que inicia de `eb4`.\n",
        "\n",
        "Para cada valor da sequência você vai iniciar do valor `eb4` (mi bemol na quarta oitava) e subir um semi-tom. Lembrando que temos 12 semitons na escala cromática abaixo.\n",
        "\n",
        "![](https://dcc.ufmg.br/~flaviovdf/mir/lab01/cromo.jpg)\n",
        "\n",
        "Abaixo temos a primeira nota."
      ]
    },
    {
      "cell_type": "code",
      "execution_count": null,
      "metadata": {
        "id": "o9PBzoX7zafI"
      },
      "outputs": [],
      "source": [
        "n = note.Note(\"eb4\")\n",
        "n.show()"
      ]
    },
    {
      "cell_type": "code",
      "execution_count": null,
      "metadata": {
        "id": "1nsePe4AzafK"
      },
      "outputs": [],
      "source": [
        "n.pitch.spanish"
      ]
    },
    {
      "cell_type": "markdown",
      "metadata": {
        "id": "2gV2UJmszafK"
      },
      "source": [
        "Ao somar um tempos que ir para `mi` (e4). Ao somar dois para `fa` (f4). Abaixo temos um exemplo com os primeiros números da sequência:\n",
        "\n",
        "`0 1 1 2 3 5 8`."
      ]
    },
    {
      "cell_type": "code",
      "execution_count": null,
      "metadata": {
        "id": "WI-uowISzafL"
      },
      "outputs": [],
      "source": [
        "score = stream.Score()\n",
        "txt_notes = ['eb4', 'e4', 'e4', 'f4', 'gb4', 'ab4']  # observe que seguimos no b4, vamos para 5 depois do si.\n",
        "for name in txt_notes:\n",
        "    score.append(note.Note(name))\n",
        "score.show()"
      ]
    },
    {
      "cell_type": "code",
      "execution_count": null,
      "metadata": {
        "id": "z4ltvQszzafM"
      },
      "outputs": [],
      "source": [
        "score.show('midi')"
      ]
    },
    {
      "cell_type": "markdown",
      "metadata": {
        "id": "-GWBTdn1zafN"
      },
      "source": [
        "Porém, fazer esse código na mão pode ser chato. Portanto, podemos usar MIDI!  A equação abaixo retorna uma frequência com base em seu código MIDI.\n",
        "\n",
        "$$F(p) = 2^{\\frac{p-69}{12}} 440$$\n",
        "\n",
        "A4 em MIDI é 69. Entre A4 e A5 existem 12 semi-tons na escala cromática. A5 tem o dobro da frequêncdia de A4. Assim, podemos pensar nessa equação da seguinte forma. Para sair de A4 para A5 precisamos multiplicar por 2.\n",
        "\n",
        "$$F(p) = 2 \\cdots 440 $$\n",
        "\n",
        "Só que esse intervalo é quebrado em 12 semi-tons, cada um crescendo em escala log.\n",
        "\n",
        "$$F(p) = 2^{\\frac{p-?}{12}} 440 $$\n",
        "\n",
        "Assim as notas até A5 vão crescer iniciando de A4 multiplicando A4 por: $2^{1/12}$, $2^{1/12}$, $2^{1/12}$, $2^{1/12}$, $\\cdots$, $2^{12/12}$. Esta última é 2x A4.\n",
        "\n",
        "Como MIDI inicia em 69. Chegamos em:\n",
        "\n",
        "$$F(p) = 2^{\\frac{p-69}{12}} 440 $$\n",
        "\n",
        "Assim podemos caminhar via midi como abaixo!"
      ]
    },
    {
      "cell_type": "code",
      "execution_count": null,
      "metadata": {
        "id": "1M49O4RRzafP"
      },
      "outputs": [],
      "source": [
        "note.Note(pitch.Pitch(69 + 5))"
      ]
    },
    {
      "cell_type": "code",
      "execution_count": null,
      "metadata": {
        "id": "mtKm5MxLzafQ"
      },
      "outputs": [],
      "source": [
        "def fibo(n: int):\n",
        "    pass\n",
        "\n",
        "def fibo_melody(n: int):\n",
        "    sequencia = fibo(n)"
      ]
    },
    {
      "cell_type": "code",
      "execution_count": null,
      "metadata": {
        "id": "EHba7k6azafS"
      },
      "outputs": [],
      "source": [
        "s = fibo_melody(12)\n",
        "# s.show()"
      ]
    },
    {
      "cell_type": "markdown",
      "metadata": {
        "id": "4d0sWElKzafS"
      },
      "source": [
        "**Questão 5** Plote o piano roll da sua música abaixo. Use `score.plot('pianoroll')`"
      ]
    },
    {
      "cell_type": "code",
      "execution_count": null,
      "metadata": {
        "id": "VrLBk-7uzafT"
      },
      "outputs": [],
      "source": []
    },
    {
      "cell_type": "markdown",
      "metadata": {
        "id": "vMNNRpVczafU"
      },
      "source": [
        "**Questão 6** Gere um XML da sua melodia. Leia o mesmo, só pelo esporte.\n",
        "\n",
        "> Indique aqui, professor eu li."
      ]
    }
  ],
  "metadata": {
    "colab": {
      "name": "lab01.ipynb",
      "provenance": [],
      "include_colab_link": true
    },
    "kernelspec": {
      "display_name": "Python 3 (ipykernel)",
      "language": "python",
      "name": "python3"
    },
    "language_info": {
      "codemirror_mode": {
        "name": "ipython",
        "version": 3
      },
      "file_extension": ".py",
      "mimetype": "text/x-python",
      "name": "python",
      "nbconvert_exporter": "python",
      "pygments_lexer": "ipython3",
      "version": "3.11.3"
    }
  },
  "nbformat": 4,
  "nbformat_minor": 0
}